{
 "cells": [
  {
   "cell_type": "code",
   "execution_count": 1,
   "id": "0738d93c",
   "metadata": {},
   "outputs": [],
   "source": [
    "table = r\"\"\"    Algeria &  72 &  42 \\tikzmark{s} &   72 + \\tikzmark{t} 17 = 89 &         \\tikzmark{u} 25 & 98 &      0.63 &    0.42 &      0.51 &               0.78 &              0.48 &              0.59\\\\\n",
    "    &&&&&&&&&&&\\\\\n",
    "    Egypt & 170 &  93 \\tikzmark{p} & 170 + \\tikzmark{q} 69 = 239 &         \\tikzmark{r} 24 &  30 &     0.65 &    0.85 &      0.73 &               0.91 &             0.89 &              0.90 \\\\\n",
    "    &&&&&&&&&&&\\\\\n",
    "    Lebanon & 134 &  79 \\tikzmark{m} & 134 + \\tikzmark{n} 41 = 175 &         \\tikzmark{o} 38 & 60 &      0.63 &    0.69 &      0.66 &               0.82 &              0.74 &              0.78 \\\\\n",
    "    &&&&&&&&&&&\\\\\n",
    "    Palestine &  74 &  85 \\tikzmark{j} &  74 + \\tikzmark{k} 59 = 133 &         \\tikzmark{l} 26 & 99 &      0.47 &    0.43 &      0.45 &               0.84 &              0.57 &              0.68 \\\\\n",
    "    &&&&&&&&&&&\\\\\n",
    "    Saudi\\ Arabia &  88 & 132 \\tikzmark{g} &  88 + \\tikzmark{h} 97 = 185 &         \\tikzmark{i} 35 &  111 &     0.40 &    0.44 &      0.42 &               0.84 & 0.62 &              0.72 \\\\\n",
    "    &&&&&&&&&&&\\\\\n",
    "       Sudan & 127 &  12 \\tikzmark{d} &  127 + \\tikzmark{e} 5 = 132 &          \\tikzmark{f} 7 & 61 &      0.91 &    0.68 &      0.78 &               0.95 & 0.68 &              0.80 \\\\\n",
    "    &&&&&&&&&&&\\\\\n",
    "       Syria &  60 &   47 \\tikzmark{a} &   60 + \\tikzmark{b} 37 = 97 &         \\tikzmark{c} 10 & 134 &      0.56 &    0.31 &      0.40 &               0.91 & 0.42 &              0.57 \\\\\n",
    "    &&&&&&&&&&&\\\\\"\"\""
   ]
  },
  {
   "cell_type": "code",
   "execution_count": 2,
   "id": "49913794",
   "metadata": {},
   "outputs": [
    {
     "name": "stdout",
     "output_type": "stream",
     "text": [
      "Algeria & 72 & 42 \\tikzmark{s} & \\onslide<2->{72 + \\tikzmark{t} 17 = 89} & \\onslide<2->{\\tikzmark{u} 25} & 0.51 & \\onslide<3>{0.5} \\\\\n",
      "&&&&&&\\\\\n",
      "Egypt & 170 & 93 \\tikzmark{p} & \\onslide<2->{170 + \\tikzmark{q} 69 = 239} & \\onslide<2->{\\tikzmark{r} 24} & 0.73 & \\onslide<3>{0.90} \\\\\n",
      "&&&&&&\\\\\n",
      "Lebanon & 134 & 79 \\tikzmark{m} & \\onslide<2->{134 + \\tikzmark{n} 41 = 175} & \\onslide<2->{\\tikzmark{o} 38} & 0.66 & \\onslide<3>{0.78} \\\\\n",
      "&&&&&&\\\\\n",
      "Palestine & 74 & 85 \\tikzmark{j} & \\onslide<2->{74 + \\tikzmark{k} 59 = 133} & \\onslide<2->{\\tikzmark{l} 26} & 0.45 & \\onslide<3>{0.68} \\\\\n",
      "&&&&&&\\\\\n",
      "Saudi\\ Arabia & 88 & 132 \\tikzmark{g} & \\onslide<2->{88 + \\tikzmark{h} 97 = 185} & \\onslide<2->{\\tikzmark{i} 35} & 0.42 & \\onslide<3>{0.72} \\\\\n",
      "&&&&&&\\\\\n",
      "Sudan & 127 & 12 \\tikzmark{d} & \\onslide<2->{127 + \\tikzmark{e} 5 = 132} & \\onslide<2->{\\tikzmark{f} 7} & 0.78 & \\onslide<3>{0.80} \\\\\n",
      "&&&&&&\\\\\n",
      "Syria & 60 & 47 \\tikzmark{a} & \\onslide<2->{60 + \\tikzmark{b} 37 = 97} & \\onslide<2->{\\tikzmark{c} 10} & 0.40 & \\onslide<3>{0.57} \\\\\n",
      "&&&&&&\\\\\n"
     ]
    }
   ],
   "source": [
    "for row in table.split(\"\\n\"):\n",
    "    if row.strip() == r\"&&&&&&&&&&&\\\\\":\n",
    "        print(r\"&&&&&&\\\\\")\n",
    "    else:\n",
    "        fields = row.strip().split(\"&\")\n",
    "        output_fields = fields[0:5] + fields[8:9] + fields[11:12]\n",
    "        output_fields = [f.strip() for f in output_fields]\n",
    "        output_fields[-1] = f\"\\\\onslide<3>{{{output_fields[-1][:-3]}}}\"\n",
    "        for field_no in range(3,5):\n",
    "            output_fields[field_no] = f\"\\\\onslide<2->{{{output_fields[field_no]}}}\"\n",
    "\n",
    "        print(\" & \".join(output_fields) + \" \\\\\\\\\")"
   ]
  }
 ],
 "metadata": {
  "kernelspec": {
   "display_name": "Python 3 (ipykernel)",
   "language": "python",
   "name": "python3"
  },
  "language_info": {
   "codemirror_mode": {
    "name": "ipython",
    "version": 3
   },
   "file_extension": ".py",
   "mimetype": "text/x-python",
   "name": "python",
   "nbconvert_exporter": "python",
   "pygments_lexer": "ipython3",
   "version": "3.10.9"
  }
 },
 "nbformat": 4,
 "nbformat_minor": 5
}
